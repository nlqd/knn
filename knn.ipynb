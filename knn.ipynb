{
  "nbformat": 4,
  "nbformat_minor": 0,
  "metadata": {
    "colab": {
      "name": "knn.ipynb",
      "provenance": [],
      "authorship_tag": "ABX9TyP86Ot6ehRc6YwWUMBFurog",
      "include_colab_link": true
    },
    "kernelspec": {
      "name": "python3",
      "display_name": "Python 3"
    },
    "accelerator": "GPU"
  },
  "cells": [
    {
      "cell_type": "markdown",
      "metadata": {
        "id": "view-in-github",
        "colab_type": "text"
      },
      "source": [
        "<a href=\"https://colab.research.google.com/github/nlqd/knn/blob/main/knn.ipynb\" target=\"_parent\"><img src=\"https://colab.research.google.com/assets/colab-badge.svg\" alt=\"Open In Colab\"/></a>"
      ]
    },
    {
      "cell_type": "code",
      "metadata": {
        "id": "K6R7DK7LKyvi"
      },
      "source": [
        "import numpy as np"
      ],
      "execution_count": 4,
      "outputs": []
    },
    {
      "cell_type": "code",
      "metadata": {
        "id": "jjLKjuBeLX5z"
      },
      "source": [
        "from time import time"
      ],
      "execution_count": 5,
      "outputs": []
    },
    {
      "cell_type": "code",
      "metadata": {
        "id": "G4J-odsKYjtS"
      },
      "source": [
        "d, N = 1000, 1000\r\n",
        "X = np.random.randn(N, d)\r\n",
        "z = np.random.randn(d)"
      ],
      "execution_count": 6,
      "outputs": []
    },
    {
      "cell_type": "code",
      "metadata": {
        "id": "R7nFVJ6XY8RZ"
      },
      "source": [
        "def dist_pp(z, x):\r\n",
        "  d = z - x.reshape(z.shape)\r\n",
        "  return np.sum(d*d)"
      ],
      "execution_count": 7,
      "outputs": []
    },
    {
      "cell_type": "code",
      "metadata": {
        "id": "-Hioi3GiZkfQ"
      },
      "source": [
        "def dist_ps_naive(z, X):\r\n",
        "  N = X.shape[0]\r\n",
        "  res = np.zeros((1, N))\r\n",
        "  for i in range(N):\r\n",
        "    res[0][i] = dist_pp(z, X[i])\r\n",
        "  return res"
      ],
      "execution_count": 14,
      "outputs": []
    },
    {
      "cell_type": "code",
      "metadata": {
        "id": "B7OwRB3Kf3Sz"
      },
      "source": [
        "def dist_ps_fast(z, X):\r\n",
        "  X2 = np.sum(X*X, 1)\r\n",
        "  z2 = np.sum(z*z)\r\n",
        "  return X2 + z2 - 2*X.dot(z)"
      ],
      "execution_count": 9,
      "outputs": []
    },
    {
      "cell_type": "code",
      "metadata": {
        "colab": {
          "base_uri": "https://localhost:8080/"
        },
        "id": "FTaBlWflf-Eu",
        "outputId": "dabec8f3-b0ae-415d-9ced-03f9bb8dcda6"
      },
      "source": [
        "t1 = time()\r\n",
        "D1 = dist_ps_naive(z, X)\r\n",
        "print('naive point2set, running time:', time() - t1, 's')"
      ],
      "execution_count": 15,
      "outputs": [
        {
          "output_type": "stream",
          "text": [
            "naive point2set, running time: 0.014252662658691406 s\n"
          ],
          "name": "stdout"
        }
      ]
    },
    {
      "cell_type": "code",
      "metadata": {
        "colab": {
          "base_uri": "https://localhost:8080/"
        },
        "id": "tb8FcleagcZo",
        "outputId": "adaf7609-e7b3-4ac6-d157-bc8e5130539c"
      },
      "source": [
        "t1 = time()\r\n",
        "D2 = dist_ps_fast(z, X)\r\n",
        "print('fast point2set , running time:', time() - t1, 's')\r\n",
        "print('Result difference:', np.linalg.norm(D1 - D2))"
      ],
      "execution_count": 16,
      "outputs": [
        {
          "output_type": "stream",
          "text": [
            "fast point2set , running time: 0.009978771209716797 s\n",
            "Result difference: 5.67523965144059e-12\n"
          ],
          "name": "stdout"
        }
      ]
    }
  ]
}